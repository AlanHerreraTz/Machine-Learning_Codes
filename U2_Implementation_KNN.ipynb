{
  "nbformat": 4,
  "nbformat_minor": 0,
  "metadata": {
    "colab": {
      "provenance": []
    },
    "kernelspec": {
      "name": "python3",
      "display_name": "Python 3"
    },
    "language_info": {
      "name": "python"
    }
  },
  "cells": [
    {
      "cell_type": "markdown",
      "source": [
        "# Algorithm Explanation"
      ],
      "metadata": {
        "id": "SmEsbQerjS1f"
      }
    },
    {
      "cell_type": "markdown",
      "source": [
        "An approach to supervised learning used for both classification and regression is the K-Nearest Neighbors (KNN) algorithm. The basic idea underlying KNN is straightforward: given a data point, the \"k\" training points in the feature space that are closest to it are searched. The point is then allocated to the category that its neighbors share the most instances of for classification, and for regression, the predicted value is the average (or weighted) value of the neighbors' values."
      ],
      "metadata": {
        "id": "tsZkbwGBjWne"
      }
    },
    {
      "cell_type": "markdown",
      "source": [
        "# Algorithm pseudocode"
      ],
      "metadata": {
        "id": "DvYIGzd3jJT7"
      }
    },
    {
      "cell_type": "markdown",
      "source": [
        "1. Load the dataset with features (X) and corresponding labels (y).\n",
        "2. Specify the value of 'k' (the number of neighbors to consider).\n",
        "3. For each point in the dataset:\n",
        "   - Calculate the distance between the point and the test data using a distance metric (e.g., Euclidean distance).\n",
        "   - Store the distance along with the corresponding label.\n",
        "4. Sort the stored distances in ascending order.\n",
        "5. Select the top 'k' distances.\n",
        "6. Determine the most common label among the selected 'k' distances.\n",
        "7. Assign this label to the test data as the predicted class.\n"
      ],
      "metadata": {
        "id": "p_Dl92M-jXFM"
      }
    },
    {
      "cell_type": "markdown",
      "source": [
        "#Implementation of the algorithm"
      ],
      "metadata": {
        "id": "orHI502kjCGO"
      }
    },
    {
      "cell_type": "markdown",
      "source": [
        "Creating our example dataset"
      ],
      "metadata": {
        "id": "NlQfasPffQzq"
      }
    },
    {
      "cell_type": "code",
      "execution_count": null,
      "metadata": {
        "colab": {
          "base_uri": "https://localhost:8080/"
        },
        "id": "2r0BLOzdeFnJ",
        "outputId": "e02ff871-8c1a-4e06-834e-441ff399466d"
      },
      "outputs": [
        {
          "output_type": "stream",
          "name": "stdout",
          "text": [
            "   Weight  Height        Class\n",
            "0      51     167  Underweight\n",
            "1      62     182       Normal\n",
            "2      69     176       Normal\n",
            "3      64     173       Normal\n",
            "4      65     172       Normal\n",
            "5      56     174  Underweight\n",
            "6      58     169       Normal\n",
            "7      57     173       Normal\n",
            "8      55     170       Normal\n"
          ]
        }
      ],
      "source": [
        "import pandas as pd\n",
        "\n",
        "data_set = {'Weight': [51,62,69,64,65,56,58,57,55], 'Height': [167, 182, 176, 173, 172, 174, 169, 173, 170], 'Class':['Underweight', 'Normal', 'Normal', 'Normal', 'Normal','Underweight', 'Normal', 'Normal', 'Normal']}\n",
        "\n",
        "df = pd.DataFrame(data_set)\n",
        "\n",
        "print(df)"
      ]
    },
    {
      "cell_type": "markdown",
      "source": [
        "Performing KNN algorithm."
      ],
      "metadata": {
        "id": "AZNuZagFiuq5"
      }
    },
    {
      "cell_type": "code",
      "source": [
        "import numpy as np\n",
        "import matplotlib.pyplot as plt\n",
        "\n",
        "x_test = np.array([59, 172])\n",
        "k = 3\n",
        "\n",
        "df['Distance'] = np.sqrt((df['Weight'] - x_test[0])**2 + (df['Height'] - x_test[1])**2)\n",
        "nearest_neighbors = df.nsmallest(k, 'Distance')\n",
        "\n",
        "predicted_class = nearest_neighbors['Class'].mode()[0]\n",
        "\n",
        "plt.scatter(df[df['Class']=='Underweight']['Weight'], df[df['Class']=='Underweight']['Height'], color='blue', label='Underweight')\n",
        "plt.scatter(df[df['Class']=='Normal']['Weight'], df[df['Class']=='Normal']['Height'], color='red', label='Normal')\n",
        "plt.scatter(x_test[0], x_test[1], color='green', label='Test Point')\n",
        "plt.legend()\n",
        "\n",
        "plt.title(f'Predicted Class: {predicted_class}')\n",
        "plt.xlabel('Weight')\n",
        "plt.ylabel('Height')\n",
        "plt.show()\n",
        "\n",
        "print(f'Predicted Class: {predicted_class}')\n"
      ],
      "metadata": {
        "colab": {
          "base_uri": "https://localhost:8080/",
          "height": 489
        },
        "id": "doG9R_dWfMNG",
        "outputId": "ea9d8f28-9acc-414c-8c64-3b3ee402be40"
      },
      "execution_count": null,
      "outputs": [
        {
          "output_type": "display_data",
          "data": {
            "text/plain": [
              "<Figure size 640x480 with 1 Axes>"
            ],
            "image/png": "[encoded data removed]"
          },
          "metadata": {}
        },
        {
          "output_type": "stream",
          "name": "stdout",
          "text": [
            "Predicted Class: Normal\n"
          ]
        }
      ]
    },
    {
      "cell_type": "markdown",
      "source": [
        "# Loss function and optimization function"
      ],
      "metadata": {
        "id": "IoOR2ehZfXHs"
      }
    },
    {
      "cell_type": "markdown",
      "source": [
        "In contrast to models with adjustable parameters (such as neural networks and linear regression), the KNN algorithm doesn't have any parameters that need to be improved.\n",
        "Loss functions and optimization algorithms are frequently related to algorithms that adapt to new data through parameter changes, including gradient-based models and neural networks."
      ],
      "metadata": {
        "id": "GL0k5YBGfd97"
      }
    },
    {
      "cell_type": "markdown",
      "source": [
        "**(KNN): K-Nearest Neighbors**\n",
        "\n",
        "* An instance-based algorithm is KNN. It does not derive explicit weights or parameters from the data.\n",
        "\n",
        "* There is no training procedure where the model modifies internal parameters to reduce a loss function. Instead, it learns the training data by heart and categorizes new data points according to how similar they are to the old ones.\n",
        "\n",
        "* Because KNN doesn't carry out optimization in the same manner that models with adjustable parameters do, it lacks a precise understanding of loss.\n",
        "\n",
        "**Algorithms for optimization and loss functions**\n",
        "\n",
        "* Algorithms with parameters that must be learned from data (such as neural networks and linear regression) use loss functions.\n",
        "\n",
        "* These settings are changed to minimize the loss function using optimization procedures (such as Gradient Descent)."
      ],
      "metadata": {
        "id": "_CQERiz9f0r6"
      }
    }
  ]
}